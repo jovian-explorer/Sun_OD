{
  "cells": [
    {
      "cell_type": "code",
      "execution_count": 1,
      "metadata": {
        "colab": {
          "base_uri": "https://localhost:8080/"
        },
        "id": "sZGI69_qC9qt",
        "outputId": "a4f96462-4d50-4c81-c1c6-921782156735"
      },
      "outputs": [
        {
          "ename": "ModuleNotFoundError",
          "evalue": "No module named 'google'",
          "output_type": "error",
          "traceback": [
            "\u001b[1;31m---------------------------------------------------------------------------\u001b[0m",
            "\u001b[1;31mModuleNotFoundError\u001b[0m                       Traceback (most recent call last)",
            "\u001b[1;32mc:\\Users\\akhil\\OneDrive\\ERETS\\GIT\\SDO\\Main_CODE\\Directory\\DATA_PREP\\preparing_dataset_for_model.ipynb Cell 1\u001b[0m in \u001b[0;36m2\n\u001b[0;32m      <a href='vscode-notebook-cell:/c%3A/Users/akhil/OneDrive/ERETS/GIT/SDO/Main_CODE/Directory/DATA_PREP/preparing_dataset_for_model.ipynb#W0sZmlsZQ%3D%3D?line=0'>1</a>\u001b[0m \u001b[39mimport\u001b[39;00m \u001b[39mos\u001b[39;00m\n\u001b[1;32m----> <a href='vscode-notebook-cell:/c%3A/Users/akhil/OneDrive/ERETS/GIT/SDO/Main_CODE/Directory/DATA_PREP/preparing_dataset_for_model.ipynb#W0sZmlsZQ%3D%3D?line=1'>2</a>\u001b[0m \u001b[39mfrom\u001b[39;00m \u001b[39mgoogle\u001b[39;00m\u001b[39m.\u001b[39;00m\u001b[39mcolab\u001b[39;00m \u001b[39mimport\u001b[39;00m drive\n\u001b[0;32m      <a href='vscode-notebook-cell:/c%3A/Users/akhil/OneDrive/ERETS/GIT/SDO/Main_CODE/Directory/DATA_PREP/preparing_dataset_for_model.ipynb#W0sZmlsZQ%3D%3D?line=2'>3</a>\u001b[0m drive\u001b[39m.\u001b[39mmount(\u001b[39m'\u001b[39m\u001b[39m/content/drive\u001b[39m\u001b[39m'\u001b[39m, force_remount\u001b[39m=\u001b[39m\u001b[39mTrue\u001b[39;00m)\n",
            "\u001b[1;31mModuleNotFoundError\u001b[0m: No module named 'google'"
          ]
        }
      ],
      "source": [
        "import os\n",
        "from google.colab import drive\n",
        "drive.mount('/content/drive', force_remount=True)"
      ]
    },
    {
      "cell_type": "code",
      "execution_count": null,
      "metadata": {
        "id": "1oUpZwBzDhYn"
      },
      "outputs": [],
      "source": [
        "def parsing_image_from_directory():\n",
        "  desktop = '/content/drive/My Drive'\n",
        "  image_label_list = []\n",
        "  for folder in os.listdir(f'{desktop}/SDO'):\n",
        "    folder_path = f'{desktop}/SDO/{folder}'\n",
        "    for resolution in os.listdir(folder_path):\n",
        "              folder_path = f'{desktop}/SDO/{folder}/{resolution}'\n",
        "              for image in (os.listdir(folder_path)):\n",
        "                wavelength_from_image_name = image.split('_')[-1].split('.')[0]\n",
        "                image_label_list.append([f'{folder_path}/{image}', wavelength_from_image_name])\n",
        "\n",
        "  return image_label_list"
      ]
    },
    {
      "cell_type": "code",
      "execution_count": null,
      "metadata": {
        "id": "IXpIaDqvE9R_"
      },
      "outputs": [],
      "source": [
        "image_label_list = parsing_image_from_directory()"
      ]
    },
    {
      "cell_type": "code",
      "execution_count": 4,
      "metadata": {
        "id": "RiMsda53IJoy"
      },
      "outputs": [
        {
          "ename": "ModuleNotFoundError",
          "evalue": "No module named 'sklearn'",
          "output_type": "error",
          "traceback": [
            "\u001b[1;31m---------------------------------------------------------------------------\u001b[0m",
            "\u001b[1;31mModuleNotFoundError\u001b[0m                       Traceback (most recent call last)",
            "\u001b[1;32mc:\\Users\\akhil\\OneDrive\\ERETS\\GIT\\SDO\\Main_CODE\\Directory\\DATA_PREP\\preparing_dataset_for_model.ipynb Cell 5\u001b[0m in \u001b[0;36m1\n\u001b[1;32m----> <a href='vscode-notebook-cell:/c%3A/Users/akhil/OneDrive/ERETS/GIT/SDO/Main_CODE/Directory/DATA_PREP/preparing_dataset_for_model.ipynb#W3sZmlsZQ%3D%3D?line=0'>1</a>\u001b[0m \u001b[39mfrom\u001b[39;00m \u001b[39msklearn\u001b[39;00m\u001b[39m.\u001b[39;00m\u001b[39mmodel_selection\u001b[39;00m \u001b[39mimport\u001b[39;00m train_test_split\n\u001b[0;32m      <a href='vscode-notebook-cell:/c%3A/Users/akhil/OneDrive/ERETS/GIT/SDO/Main_CODE/Directory/DATA_PREP/preparing_dataset_for_model.ipynb#W3sZmlsZQ%3D%3D?line=1'>2</a>\u001b[0m train_data, test_data \u001b[39m=\u001b[39m train_test_split(image_label_list)\n",
            "\u001b[1;31mModuleNotFoundError\u001b[0m: No module named 'sklearn'"
          ]
        }
      ],
      "source": [
        "import sklearn\n",
        "from sklearn.model_selection import train_test_split\n",
        "train_data, test_data = train_test_split(image_label_list)"
      ]
    },
    {
      "cell_type": "code",
      "execution_count": null,
      "metadata": {
        "colab": {
          "base_uri": "https://localhost:8080/"
        },
        "id": "VG5IUaVPUFGa",
        "outputId": "7ab1dc6d-37c9-462b-dbe8-f6165cbcbecd"
      },
      "outputs": [],
      "source": [
        "x_train = []\n",
        "y_train = []\n",
        "\n",
        "for each_list in train_data:\n",
        "  x_train.append(each_list[0])\n",
        "  y_train.append(each_list[1])"
      ]
    },
    {
      "cell_type": "code",
      "execution_count": null,
      "metadata": {
        "colab": {
          "base_uri": "https://localhost:8080/"
        },
        "id": "VV8eaz93UHMf",
        "outputId": "54e63f96-bff5-4d0b-e2c9-1aa012b35478"
      },
      "outputs": [],
      "source": []
    },
    {
      "cell_type": "code",
      "execution_count": null,
      "metadata": {
        "id": "onPZ3wH7UMUg"
      },
      "outputs": [],
      "source": []
    }
  ],
  "metadata": {
    "colab": {
      "provenance": []
    },
    "kernelspec": {
      "display_name": "Python 3",
      "name": "python3"
    },
    "language_info": {
      "codemirror_mode": {
        "name": "ipython",
        "version": 3
      },
      "file_extension": ".py",
      "mimetype": "text/x-python",
      "name": "python",
      "nbconvert_exporter": "python",
      "pygments_lexer": "ipython3",
      "version": "3.9.13"
    }
  },
  "nbformat": 4,
  "nbformat_minor": 0
}
