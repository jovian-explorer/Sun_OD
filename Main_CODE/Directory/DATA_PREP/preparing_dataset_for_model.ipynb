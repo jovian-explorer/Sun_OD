{
  "nbformat": 4,
  "nbformat_minor": 0,
  "metadata": {
    "colab": {
      "provenance": []
    },
    "kernelspec": {
      "name": "python3",
      "display_name": "Python 3"
    },
    "language_info": {
      "name": "python"
    }
  },
  "cells": [
    {
      "cell_type": "code",
      "execution_count": 2,
      "metadata": {
        "colab": {
          "base_uri": "https://localhost:8080/"
        },
        "id": "sZGI69_qC9qt",
        "outputId": "a4f96462-4d50-4c81-c1c6-921782156735"
      },
      "outputs": [
        {
          "output_type": "stream",
          "name": "stdout",
          "text": [
            "Mounted at /content/drive\n"
          ]
        }
      ],
      "source": [
        "import os\n",
        "from google.colab import drive\n",
        "drive.mount('/content/drive', force_remount=True)"
      ]
    },
    {
      "cell_type": "code",
      "source": [
        "def parsing_image_from_directory():\n",
        "  desktop = '/content/drive/My Drive'\n",
        "  image_label_list = []\n",
        "  for folder in os.listdir(f'{desktop}/SDO'):\n",
        "    folder_path = f'{desktop}/SDO/{folder}'\n",
        "    for resolution in os.listdir(folder_path):\n",
        "              folder_path = f'{desktop}/SDO/{folder}/{resolution}'\n",
        "              for image in (os.listdir(folder_path)):\n",
        "                wavelength_from_image_name = image.split('_')[-1].split('.')[0]\n",
        "                image_label_list.append([f'{folder_path}/{image}', wavelength_from_image_name])\n",
        "\n",
        "  return image_label_list"
      ],
      "metadata": {
        "id": "1oUpZwBzDhYn"
      },
      "execution_count": 46,
      "outputs": []
    },
    {
      "cell_type": "code",
      "source": [
        "image_label_list = parsing_image_from_directory()"
      ],
      "metadata": {
        "id": "IXpIaDqvE9R_"
      },
      "execution_count": 47,
      "outputs": []
    },
    {
      "cell_type": "code",
      "source": [
        "import sklearn\n",
        "from sklearn.model_selection import train_test_split\n",
        "train_data, test_data = train_test_split(image_label_list)"
      ],
      "metadata": {
        "id": "RiMsda53IJoy"
      },
      "execution_count": 50,
      "outputs": []
    },
    {
      "cell_type": "code",
      "source": [
        "train_data[0:10]"
      ],
      "metadata": {
        "colab": {
          "base_uri": "https://localhost:8080/"
        },
        "id": "VG5IUaVPUFGa",
        "outputId": "7ab1dc6d-37c9-462b-dbe8-f6165cbcbecd"
      },
      "execution_count": 51,
      "outputs": [
        {
          "output_type": "execute_result",
          "data": {
            "text/plain": [
              "[['/content/drive/My Drive/SDO/0131/512/SDO_20220101_071532_512_0131.jpg',\n",
              "  '0131'],\n",
              " ['/content/drive/My Drive/SDO/0171/512/SDO_20220101_123658_512_0171.jpg',\n",
              "  '0171'],\n",
              " ['/content/drive/My Drive/SDO/0304/512/SDO_20220101_113830_512_0304.jpg',\n",
              "  '0304'],\n",
              " ['/content/drive/My Drive/SDO/1600/512/SDO_20220101_041103_512_1600.jpg',\n",
              "  '1600'],\n",
              " ['/content/drive/My Drive/SDO/0304/512/SDO_20220101_164830_512_0304.jpg',\n",
              "  '0304'],\n",
              " ['/content/drive/My Drive/SDO/0131/512/SDO_20220101_171544_512_0131.jpg',\n",
              "  '0131'],\n",
              " ['/content/drive/My Drive/SDO/1600/512/SDO_20220101_081015_512_1600.jpg',\n",
              "  '1600'],\n",
              " ['/content/drive/My Drive/SDO/0211/512/SDO_20220101_001923_512_0211.jpg',\n",
              "  '0211'],\n",
              " ['/content/drive/My Drive/SDO/0193/512/SDO_20220101_183729_512_0193.jpg',\n",
              "  '0193'],\n",
              " ['/content/drive/My Drive/SDO/HMIIC/512/SDO_20220101_184500_512_HMIIC.jpg',\n",
              "  'HMIIC']]"
            ]
          },
          "metadata": {},
          "execution_count": 51
        }
      ]
    },
    {
      "cell_type": "code",
      "source": [
        "test_data[0:10]"
      ],
      "metadata": {
        "colab": {
          "base_uri": "https://localhost:8080/"
        },
        "id": "VV8eaz93UHMf",
        "outputId": "54e63f96-bff5-4d0b-e2c9-1aa012b35478"
      },
      "execution_count": 52,
      "outputs": [
        {
          "output_type": "execute_result",
          "data": {
            "text/plain": [
              "[['/content/drive/My Drive/SDO/0094/512/SDO_20220101_094436_512_0094.jpg',\n",
              "  '0094'],\n",
              " ['/content/drive/My Drive/SDO/0171/512/SDO_20220101_220610_512_0171.jpg',\n",
              "  '0171'],\n",
              " ['/content/drive/My Drive/SDO/0304/512/SDO_20220101_030842_512_0304.jpg',\n",
              "  '0304'],\n",
              " ['/content/drive/My Drive/SDO/0211/512/SDO_20220101_093947_512_0211.jpg',\n",
              "  '0211'],\n",
              " ['/content/drive/My Drive/SDO/HMIB/512/SDO_20220101_070000_512_HMIB.jpg',\n",
              "  'HMIB'],\n",
              " ['/content/drive/My Drive/SDO/0193/512/SDO_20220101_083729_512_0193.jpg',\n",
              "  '0193'],\n",
              " ['/content/drive/My Drive/SDO/HMIB/512/SDO_20220101_181500_512_HMIB.jpg',\n",
              "  'HMIB'],\n",
              " ['/content/drive/My Drive/SDO/HMII/512/SDO_20220101_175238_512_HMII.jpg',\n",
              "  'HMII'],\n",
              " ['/content/drive/My Drive/SDO/0193/512/SDO_20220101_210753_512_0193.jpg',\n",
              "  '0193'],\n",
              " ['/content/drive/My Drive/SDO/HMIIC/512/SDO_20220101_134500_512_HMIIC.jpg',\n",
              "  'HMIIC']]"
            ]
          },
          "metadata": {},
          "execution_count": 52
        }
      ]
    },
    {
      "cell_type": "code",
      "source": [],
      "metadata": {
        "id": "onPZ3wH7UMUg"
      },
      "execution_count": null,
      "outputs": []
    }
  ]
}