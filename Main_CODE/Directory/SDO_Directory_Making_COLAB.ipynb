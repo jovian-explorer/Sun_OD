{
  "nbformat": 4,
  "nbformat_minor": 0,
  "metadata": {
    "colab": {
      "provenance": []
    },
    "kernelspec": {
      "name": "python3",
      "display_name": "Python 3"
    },
    "language_info": {
      "name": "python"
    }
  },
  "cells": [
    {
      "cell_type": "code",
      "source": [
        "import requests\n",
        "from bs4 import BeautifulSoup \n",
        "import pandas as pd\n",
        "from datetime import datetime, timedelta\n",
        "from IPython.display import Image, display\n",
        "import os\n",
        "from google.colab import drive\n",
        "drive.mount('/content/drive', force_remount=True)\n",
        "from tqdm import tqdm\n",
        "import glob\n",
        "from PIL import Image"
      ],
      "metadata": {
        "id": "GFRKs_yG5jOh"
      },
      "execution_count": null,
      "outputs": []
    },
    {
      "cell_type": "markdown",
      "source": [
        "**Note**\n",
        "\n",
        "Scrpt 1: The script to create the SDO image directory\n",
        "\n",
        "Script 2: The script to create a GIF from the images and then delete the images except one image\n",
        "\n",
        "Run Script 1. Check the directory manaully for the inappropriate files and then remove it from the directory before running the Script 2. This has to be followed as there are some issues with the SDO archive in the NASA website."
      ],
      "metadata": {
        "id": "0dZin4q_vi-4"
      }
    },
    {
      "cell_type": "markdown",
      "source": [
        "## Script 1"
      ],
      "metadata": {
        "id": "SeslPiEUvtIz"
      }
    },
    {
      "cell_type": "code",
      "source": [
        "Resolutions = ['4096', '2048', '1024', '512' ]\n",
        "Wavelengths = ['0094', '0193', '0171', '0304', '0211', '0131', '0335', '1600', \n",
        "               '1700', 'hmib','hmii', 'hmibc', 'hmiic', 'hmiif', 'hmid']"
      ],
      "metadata": {
        "id": "PCgcJCeS6k5_"
      },
      "execution_count": null,
      "outputs": []
    },
    {
      "cell_type": "code",
      "source": [
        "def info(Resolutions, Wavelengths):\n",
        "    '''\n",
        "    This function takes in the user input for the date range, wavelength and resolution\n",
        "\n",
        "    params: Resolution(type:list) :- List of required resolutions\n",
        "            Wavelength (type:list):- List of required wavelengths\n",
        "            \n",
        "    Return: flag_res, flag_wavelength :- variable to check whether the resolution and wavelength is in the prementioned list respectively.\n",
        "            sdate                     :- The start date string input by the user (format: YYYY/MM/DD, type: str)\n",
        "            edate                     :- The end date string input by user (format: YYYY/MM/DD, type: str)\n",
        "            resolution                :- The resolution input by the user (type:str)\n",
        "            wavelength                :- The wavelength input by the user (type:str)\n",
        "    '''\n",
        "    \n",
        "    print('Input Start date in the format: DD/MM/YYYY')\n",
        "    sdate = input('Start Date:')\n",
        "    print('Input End date in the format: DD/MM/YYYY')\n",
        "    edate = input('End Date:')\n",
        "    print(f'Enter resolution from {Resolutions}')\n",
        "    resolution = input('Resolution:')\n",
        "    \n",
        "    if resolution in Resolutions:\n",
        "        flag_res = True\n",
        "        pass\n",
        "    else:\n",
        "        print('Resolution value not found')\n",
        "        flag_res = False\n",
        "        \n",
        "    return flag_res, sdate, edate, resolution \n",
        "\n",
        "\n",
        "def date_generation(sdate,edate):\n",
        "    '''\n",
        "    This function generates the list of dates between the start and end date provided.\n",
        "    Params: The start date (var: sdate, type: str (dd/mm/yyyy)) and the end date (var: edate, type:str (dd/mm/yyyy))\n",
        "    Return: List of the dates (var: dates, type: list) between the sdate and edate in datetime.date format\n",
        "    '''\n",
        "    dates = []\n",
        "    sdate=  datetime.strptime(sdate, '%d/%m/%Y').date()\n",
        "    edate=  datetime.strptime(edate, '%d/%m/%Y').date()\n",
        "    date_list = pd.date_range(start=sdate, end=edate).date\n",
        "    for date in date_list:\n",
        "        dates.append(date)\n",
        "    return dates\n",
        "\n",
        "\n",
        "def generate_web_scrap_url(sdate,edate):\n",
        "    '''\n",
        "    This function generates the URL for each of the dates in the date range provided.\n",
        "    Params: The start date (var: sdate, type: str (dd/mm/yyyy)) and the end date (var: edate, type:str (dd/mm/yyyy)) \n",
        "    Return: The list of url in the date range provided.\n",
        "    '''\n",
        "    dates = date_generation(sdate,edate)\n",
        "    url_list = []\n",
        "    for date in dates:\n",
        "        year = date.year\n",
        "        month = date.month\n",
        "        day = date.day\n",
        "        url = f\"https://sdo.gsfc.nasa.gov/assets/img/browse/{year}/{month:02d}/{day:02d}/\"\n",
        "        url_list.append(url) \n",
        "    return url, url_list\n",
        "\n",
        "\n",
        "def filtering_images(sdate, edate, resolution, wavelength):  \n",
        "    '''\n",
        "    This functions filters the links from the webpage based on the given wavelength and resolution\n",
        "    Params: The start date (var: sdate, type: str (dd/mm/yyyy)), the end date (var: edate, type:str (dd/mm/yyyy)),\n",
        "           the given wavelength (type: str) and the given resolution (type:str)\n",
        "    Return: List of the filters links for the images\n",
        "    '''\n",
        "    if wavelength.isalpha():\n",
        "        wavelength = wavelength.upper()\n",
        "    url_list = generate_web_scrap_url(sdate,edate)[1]\n",
        "    links = []\n",
        "    for url in url_list:\n",
        "        req = requests.get(url)\n",
        "        soup = BeautifulSoup(req.text, \"html.parser\")\n",
        "        for link in soup.find_all('a'):\n",
        "            refs = link.get('href')\n",
        "            if '.jpg' in refs:\n",
        "                if (f'{wavelength}' == refs.split('_')[-1].split('.')[0] and f'{resolution}' == refs.split('_')[-2]):\n",
        "                    links.append(refs)\n",
        "    return links\n",
        "\n",
        "\n",
        "def download_SDO_image(flag_res, sdate, edate, resolution, wavelength): \n",
        "    '''\n",
        "    This function gets the content from the url generated, makes a directory (Desktop\\SDO\\wavelength\\resolution) \n",
        "    and store the images accordingly.\n",
        "    \n",
        "    params: flag_res, flag_wavelength :- variable to check whether the resolution and wavelength is in the prementioned list respectively.\n",
        "            sdate                     :- The start date string input by the user (format: YYYY/MM/DD, type: str)\n",
        "            edate                     :- The end date string input by user (format: YYYY/MM/DD, type: str)\n",
        "            resolution                :- The resolution input by the user (type:str)\n",
        "            wavelength                :- The wavelength input by the user (type:str)\n",
        "    \n",
        "    return: The image that is fetched from the url.\n",
        "    '''\n",
        "    if wavelength.isalpha():\n",
        "        wavelength = wavelength.upper()\n",
        "    init_url =  generate_web_scrap_url(sdate,edate)[0]\n",
        "    links = filtering_images(sdate, edate, resolution, wavelength)\n",
        "    \n",
        "    for link in tqdm(links):\n",
        "        url = init_url + f'{link}'\n",
        "        r = requests.get(url, allow_redirects=True)\n",
        "        folder_name = 'SDO'\n",
        "        desktop = '/content/drive/My Drive'\n",
        "        folder_path = f'{desktop}/SDO/{wavelength}/{resolution}'\n",
        "        \n",
        "        if flag_res == True:      \n",
        "            if os.path.exists(folder_path):       \n",
        "                open(f'{folder_path}/SDO_{link}', 'wb').write(r.content)\n",
        "            else:\n",
        "                os.makedirs(f'{desktop}/{folder_name}/{wavelength}/{resolution}')\n",
        "                open(f'{folder_path}/SDO_{link}', 'wb').write(r.content)\n",
        "\n",
        "    print('Content type:'+ r.headers.get('content-type'))\n",
        "    print(f'Saving the file to {folder_path}')\n",
        "    \n",
        "    \n",
        "def main():\n",
        "    flag_res, sdate, edate, resolution = info(Resolutions, Wavelengths) \n",
        "    for wavelength in Wavelengths:\n",
        "      download_SDO_image(flag_res, sdate, edate, resolution, wavelength)    \n",
        "\n",
        "\n",
        "if __name__ == \"__main__\":\n",
        "    main()"
      ],
      "metadata": {
        "id": "mSGj-5h86sLC"
      },
      "execution_count": null,
      "outputs": []
    },
    {
      "cell_type": "markdown",
      "source": [
        "## Script 2"
      ],
      "metadata": {
        "id": "AX9WQ_j0vx5i"
      }
    },
    {
      "cell_type": "code",
      "source": [
        "def make_gif(img_folder, wavelength, resolution):\n",
        "    '''\n",
        "    This function takes the images in the directory created using the script 1 and then make a GIF using the same. \n",
        "    All the file except the GIF made and one image will be removed from each directory.\n",
        "    \n",
        "    Input: Path to the image folder (var: img_folder), wavelength and resolution of the images used respectively \n",
        "    (var: wavelength, resolution)\n",
        "    \n",
        "    '''\n",
        "    video_name = f'{wavelength}_{resolution}.gif'\n",
        "    os.chdir(img_folder)\n",
        "    frames = []\n",
        "    for image in os.listdir(f\"{img_folder}\"):\n",
        "        im = Image.open(image)\n",
        "        frames.append(im)\n",
        "    frame_one = frames[0]\n",
        "    frame_one.save(video_name, format=\"GIF\", append_images=frames, save_all=True, duration=100, loop=0)\n",
        "    os.chdir(img_folder)    \n",
        "    retain = [os.listdir(img_folder)[0], video_name]    \n",
        "    for item in os.listdir(os.getcwd()):\n",
        "        if item not in retain:  # If it isn't in the list for retaining\n",
        "            os.remove(item)  # Remove the item\n",
        "\n",
        "def main1():\n",
        "    '''\n",
        "    The folder path for each set of wavelength and resolution is generated by this function to pass on to \n",
        "    the make_gif function\n",
        "    '''\n",
        "    desktop = '/content/drive/My Drive'\n",
        "    for folder in os.listdir(f'{desktop}/SDO'):\n",
        "        folder_path = f'{desktop}/SDO/{folder}'\n",
        "        for resolution in os.listdir(folder_path):\n",
        "            folder_path = f'{desktop}/SDO/{folder}/{resolution}'\n",
        "            resolution = folder_path.split('/')[-1]\n",
        "            wavelength = folder_path.split('/')[-2]\n",
        "            make_gif(folder_path, wavelength, resolution)\n",
        "\n",
        "main1()"
      ],
      "metadata": {
        "id": "n5rmaepW_i-M"
      },
      "execution_count": 17,
      "outputs": []
    }
  ]
}